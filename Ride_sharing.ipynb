{
 "cells": [
  {
   "cell_type": "markdown",
   "id": "694ccaf7",
   "metadata": {},
   "source": [
    "## Case Study: Ride Sharing Analysis\n",
    "\n",
    "This data set is a masked and simplified data set which is like what data analysts at Uber/Lyft handle. \n",
    "\n",
    "### Business Understanding\n",
    "\n",
    "You may have some experience of traveling to and from the airport. Have you ever used Uber/Lyft or any other cab service for this trip? Did you ‌face the problem of cancellation by the driver or non-availability of cars?\n",
    "These problems also affect the ride companies, as their revenue is tied to the trips made. \n",
    "We will investigate this problem of non availability and cancellation \n",
    "\n",
    "### Business Objectives\n",
    "\n",
    "The aim of analysis is to identify the root cause of the problem (i.e. cancellation and non-availability of cars) and recommend ways to improve the situation. \n",
    "As a result of your analysis, you should be able to highlight the root cause(s) and possible hypotheses of the problem(s) and recommend ways to improve them.\n",
    "\n",
    "### Data download\n",
    "\n",
    "https://raw.githubusercontent.com/vkoul/data/main/misc/ride_data.csv\n",
    "\n",
    "### Data Dictionary\n",
    "\n",
    "There are six attributes associated with each request made by a customer:\n",
    "\n",
    "- Request id: A unique identifier of the request \n",
    "- Pick-up point: The point from which the request was made \n",
    "- Driver id: The unique identification number of the driver \n",
    "- Status: The final status of the trip, that can be either completed, canceled by the driver or no cars available\n",
    "- Request Time Stamp: The date and time at which the customer made the trip request \n",
    "- Drop Time Stamp: The drop-off date and time, in case the trip was completed"
   ]
  },
  {
   "cell_type": "markdown",
   "id": "7a06948a",
   "metadata": {},
   "source": [
    "### Load libraries and data"
   ]
  },
  {
   "cell_type": "code",
   "execution_count": 1,
   "id": "bd37f0b0",
   "metadata": {},
   "outputs": [],
   "source": [
    "import pandas as pd\n",
    "import numpy as np\n",
    "import matplotlib.pyplot as plt\n",
    "import seaborn as sns\n",
    "\n",
    "import warnings\n",
    "warnings.filterwarnings(\"ignore\")"
   ]
  },
  {
   "cell_type": "code",
   "execution_count": 2,
   "id": "178e147d",
   "metadata": {},
   "outputs": [
    {
     "data": {
      "text/html": [
       "<div>\n",
       "<style scoped>\n",
       "    .dataframe tbody tr th:only-of-type {\n",
       "        vertical-align: middle;\n",
       "    }\n",
       "\n",
       "    .dataframe tbody tr th {\n",
       "        vertical-align: top;\n",
       "    }\n",
       "\n",
       "    .dataframe thead th {\n",
       "        text-align: right;\n",
       "    }\n",
       "</style>\n",
       "<table border=\"1\" class=\"dataframe\">\n",
       "  <thead>\n",
       "    <tr style=\"text-align: right;\">\n",
       "      <th></th>\n",
       "      <th>Request id</th>\n",
       "      <th>Pickup point</th>\n",
       "      <th>Driver id</th>\n",
       "      <th>Status</th>\n",
       "      <th>Request timestamp</th>\n",
       "      <th>Drop timestamp</th>\n",
       "    </tr>\n",
       "  </thead>\n",
       "  <tbody>\n",
       "    <tr>\n",
       "      <th>0</th>\n",
       "      <td>1</td>\n",
       "      <td>Airport</td>\n",
       "      <td>285.0</td>\n",
       "      <td>Trip Completed</td>\n",
       "      <td>2016-11-07 00:20:00</td>\n",
       "      <td>2016-11-07 00:51:00</td>\n",
       "    </tr>\n",
       "    <tr>\n",
       "      <th>1</th>\n",
       "      <td>2</td>\n",
       "      <td>Airport</td>\n",
       "      <td>NaN</td>\n",
       "      <td>No Cars Available</td>\n",
       "      <td>2016-11-07 00:23:00</td>\n",
       "      <td>NaT</td>\n",
       "    </tr>\n",
       "    <tr>\n",
       "      <th>2</th>\n",
       "      <td>3</td>\n",
       "      <td>Airport</td>\n",
       "      <td>80.0</td>\n",
       "      <td>Trip Completed</td>\n",
       "      <td>2016-11-07 00:24:00</td>\n",
       "      <td>2016-11-07 01:31:00</td>\n",
       "    </tr>\n",
       "    <tr>\n",
       "      <th>3</th>\n",
       "      <td>4</td>\n",
       "      <td>City</td>\n",
       "      <td>NaN</td>\n",
       "      <td>No Cars Available</td>\n",
       "      <td>2016-11-07 00:37:00</td>\n",
       "      <td>NaT</td>\n",
       "    </tr>\n",
       "    <tr>\n",
       "      <th>4</th>\n",
       "      <td>5</td>\n",
       "      <td>Airport</td>\n",
       "      <td>264.0</td>\n",
       "      <td>Trip Completed</td>\n",
       "      <td>2016-11-07 00:36:00</td>\n",
       "      <td>2016-11-07 01:35:00</td>\n",
       "    </tr>\n",
       "  </tbody>\n",
       "</table>\n",
       "</div>"
      ],
      "text/plain": [
       "   Request id Pickup point  Driver id             Status   Request timestamp  \\\n",
       "0           1      Airport      285.0     Trip Completed 2016-11-07 00:20:00   \n",
       "1           2      Airport        NaN  No Cars Available 2016-11-07 00:23:00   \n",
       "2           3      Airport       80.0     Trip Completed 2016-11-07 00:24:00   \n",
       "3           4         City        NaN  No Cars Available 2016-11-07 00:37:00   \n",
       "4           5      Airport      264.0     Trip Completed 2016-11-07 00:36:00   \n",
       "\n",
       "       Drop timestamp  \n",
       "0 2016-11-07 00:51:00  \n",
       "1                 NaT  \n",
       "2 2016-11-07 01:31:00  \n",
       "3                 NaT  \n",
       "4 2016-11-07 01:35:00  "
      ]
     },
     "execution_count": 2,
     "metadata": {},
     "output_type": "execute_result"
    }
   ],
   "source": [
    "url = \"https://raw.githubusercontent.com/vkoul/data/main/misc/ride_data.csv\"\n",
    "df = pd.read_csv(url,parse_dates=[\"Request timestamp\",\"Drop timestamp\"])\n",
    "df.head()"
   ]
  },
  {
   "cell_type": "markdown",
   "id": "6382d550",
   "metadata": {},
   "source": [
    "### EDA"
   ]
  },
  {
   "cell_type": "code",
   "execution_count": 3,
   "id": "2c26c0be",
   "metadata": {},
   "outputs": [
    {
     "name": "stdout",
     "output_type": "stream",
     "text": [
      "<class 'pandas.core.frame.DataFrame'>\n",
      "RangeIndex: 6745 entries, 0 to 6744\n",
      "Data columns (total 6 columns):\n",
      " #   Column             Non-Null Count  Dtype         \n",
      "---  ------             --------------  -----         \n",
      " 0   Request id         6745 non-null   int64         \n",
      " 1   Pickup point       6745 non-null   object        \n",
      " 2   Driver id          4095 non-null   float64       \n",
      " 3   Status             6745 non-null   object        \n",
      " 4   Request timestamp  6745 non-null   datetime64[ns]\n",
      " 5   Drop timestamp     2831 non-null   datetime64[ns]\n",
      "dtypes: datetime64[ns](2), float64(1), int64(1), object(2)\n",
      "memory usage: 316.3+ KB\n"
     ]
    }
   ],
   "source": [
    "df.info()"
   ]
  },
  {
   "cell_type": "code",
   "execution_count": 4,
   "id": "2f0dd257",
   "metadata": {},
   "outputs": [
    {
     "data": {
      "text/html": [
       "<div>\n",
       "<style scoped>\n",
       "    .dataframe tbody tr th:only-of-type {\n",
       "        vertical-align: middle;\n",
       "    }\n",
       "\n",
       "    .dataframe tbody tr th {\n",
       "        vertical-align: top;\n",
       "    }\n",
       "\n",
       "    .dataframe thead th {\n",
       "        text-align: right;\n",
       "    }\n",
       "</style>\n",
       "<table border=\"1\" class=\"dataframe\">\n",
       "  <thead>\n",
       "    <tr style=\"text-align: right;\">\n",
       "      <th></th>\n",
       "      <th>Pickup point</th>\n",
       "      <th>Status</th>\n",
       "    </tr>\n",
       "  </thead>\n",
       "  <tbody>\n",
       "    <tr>\n",
       "      <th>count</th>\n",
       "      <td>6745</td>\n",
       "      <td>6745</td>\n",
       "    </tr>\n",
       "    <tr>\n",
       "      <th>unique</th>\n",
       "      <td>2</td>\n",
       "      <td>3</td>\n",
       "    </tr>\n",
       "    <tr>\n",
       "      <th>top</th>\n",
       "      <td>City</td>\n",
       "      <td>Trip Completed</td>\n",
       "    </tr>\n",
       "    <tr>\n",
       "      <th>freq</th>\n",
       "      <td>3507</td>\n",
       "      <td>2831</td>\n",
       "    </tr>\n",
       "  </tbody>\n",
       "</table>\n",
       "</div>"
      ],
      "text/plain": [
       "       Pickup point          Status\n",
       "count          6745            6745\n",
       "unique            2               3\n",
       "top            City  Trip Completed\n",
       "freq           3507            2831"
      ]
     },
     "execution_count": 4,
     "metadata": {},
     "output_type": "execute_result"
    }
   ],
   "source": [
    "df.describe(include=\"object\")"
   ]
  },
  {
   "cell_type": "code",
   "execution_count": 5,
   "id": "04c4a0cc",
   "metadata": {},
   "outputs": [
    {
     "data": {
      "text/plain": [
       "Request id              0\n",
       "Pickup point            0\n",
       "Driver id            2650\n",
       "Status                  0\n",
       "Request timestamp       0\n",
       "Drop timestamp       3914\n",
       "dtype: int64"
      ]
     },
     "execution_count": 5,
     "metadata": {},
     "output_type": "execute_result"
    }
   ],
   "source": [
    "df.isna().sum()"
   ]
  },
  {
   "cell_type": "markdown",
   "id": "0279ec88",
   "metadata": {},
   "source": [
    "##### Do \"NA\" values only relate to rides that were not completed?"
   ]
  },
  {
   "cell_type": "code",
   "execution_count": 6,
   "id": "c5fda337",
   "metadata": {},
   "outputs": [
    {
     "data": {
      "text/html": [
       "<div>\n",
       "<style scoped>\n",
       "    .dataframe tbody tr th:only-of-type {\n",
       "        vertical-align: middle;\n",
       "    }\n",
       "\n",
       "    .dataframe tbody tr th {\n",
       "        vertical-align: top;\n",
       "    }\n",
       "\n",
       "    .dataframe thead th {\n",
       "        text-align: right;\n",
       "    }\n",
       "</style>\n",
       "<table border=\"1\" class=\"dataframe\">\n",
       "  <thead>\n",
       "    <tr style=\"text-align: right;\">\n",
       "      <th></th>\n",
       "      <th>Request id</th>\n",
       "      <th>Pickup point</th>\n",
       "      <th>Driver id</th>\n",
       "      <th>Request timestamp</th>\n",
       "      <th>Drop timestamp</th>\n",
       "    </tr>\n",
       "    <tr>\n",
       "      <th>Status</th>\n",
       "      <th></th>\n",
       "      <th></th>\n",
       "      <th></th>\n",
       "      <th></th>\n",
       "      <th></th>\n",
       "    </tr>\n",
       "  </thead>\n",
       "  <tbody>\n",
       "    <tr>\n",
       "      <th>No Cars Available</th>\n",
       "      <td>2650</td>\n",
       "      <td>2650</td>\n",
       "      <td>0</td>\n",
       "      <td>2650</td>\n",
       "      <td>0</td>\n",
       "    </tr>\n",
       "  </tbody>\n",
       "</table>\n",
       "</div>"
      ],
      "text/plain": [
       "                   Request id  Pickup point  Driver id  Request timestamp  \\\n",
       "Status                                                                      \n",
       "No Cars Available        2650          2650          0               2650   \n",
       "\n",
       "                   Drop timestamp  \n",
       "Status                             \n",
       "No Cars Available               0  "
      ]
     },
     "execution_count": 6,
     "metadata": {},
     "output_type": "execute_result"
    }
   ],
   "source": [
    "df[df[\"Driver id\"].isna()].groupby(by=\"Status\").count()"
   ]
  },
  {
   "cell_type": "code",
   "execution_count": 7,
   "id": "efcc0580",
   "metadata": {},
   "outputs": [
    {
     "data": {
      "text/html": [
       "<div>\n",
       "<style scoped>\n",
       "    .dataframe tbody tr th:only-of-type {\n",
       "        vertical-align: middle;\n",
       "    }\n",
       "\n",
       "    .dataframe tbody tr th {\n",
       "        vertical-align: top;\n",
       "    }\n",
       "\n",
       "    .dataframe thead th {\n",
       "        text-align: right;\n",
       "    }\n",
       "</style>\n",
       "<table border=\"1\" class=\"dataframe\">\n",
       "  <thead>\n",
       "    <tr style=\"text-align: right;\">\n",
       "      <th></th>\n",
       "      <th>Request id</th>\n",
       "      <th>Pickup point</th>\n",
       "      <th>Driver id</th>\n",
       "      <th>Status</th>\n",
       "      <th>Request timestamp</th>\n",
       "      <th>Drop timestamp</th>\n",
       "    </tr>\n",
       "    <tr>\n",
       "      <th>Status</th>\n",
       "      <th></th>\n",
       "      <th></th>\n",
       "      <th></th>\n",
       "      <th></th>\n",
       "      <th></th>\n",
       "      <th></th>\n",
       "    </tr>\n",
       "  </thead>\n",
       "  <tbody>\n",
       "    <tr>\n",
       "      <th>Cancelled</th>\n",
       "      <td>1264</td>\n",
       "      <td>1264</td>\n",
       "      <td>1264</td>\n",
       "      <td>1264</td>\n",
       "      <td>1264</td>\n",
       "      <td>0</td>\n",
       "    </tr>\n",
       "    <tr>\n",
       "      <th>No Cars Available</th>\n",
       "      <td>2650</td>\n",
       "      <td>2650</td>\n",
       "      <td>0</td>\n",
       "      <td>2650</td>\n",
       "      <td>2650</td>\n",
       "      <td>0</td>\n",
       "    </tr>\n",
       "  </tbody>\n",
       "</table>\n",
       "</div>"
      ],
      "text/plain": [
       "                   Request id  Pickup point  Driver id  Status  \\\n",
       "Status                                                           \n",
       "Cancelled                1264          1264       1264    1264   \n",
       "No Cars Available        2650          2650          0    2650   \n",
       "\n",
       "                   Request timestamp  Drop timestamp  \n",
       "Status                                                \n",
       "Cancelled                       1264               0  \n",
       "No Cars Available               2650               0  "
      ]
     },
     "execution_count": 7,
     "metadata": {},
     "output_type": "execute_result"
    }
   ],
   "source": [
    "df[df[\"Drop timestamp\"].isna()].groupby(by=df.Status).count()"
   ]
  },
  {
   "cell_type": "markdown",
   "id": "1a3f5cf2",
   "metadata": {},
   "source": [
    "Indeed, \"NA\" values all relate to rides that were not completed. \"Driver id\" only is \"NA\" if no car was available, and \"Drop timestamps\" are \"NA\" when either no car was available or the driver cancelled the trip."
   ]
  },
  {
   "cell_type": "markdown",
   "id": "50748e3f",
   "metadata": {},
   "source": [
    "##### Additional columns that may prove useful for our analysis: month, week, weekday, hour of request, as well as length of ride (if completed)"
   ]
  },
  {
   "cell_type": "markdown",
   "id": "2d10870d",
   "metadata": {},
   "source": [
    "We will first check the date range for requests:"
   ]
  },
  {
   "cell_type": "code",
   "execution_count": 8,
   "id": "b546db64",
   "metadata": {},
   "outputs": [
    {
     "name": "stdout",
     "output_type": "stream",
     "text": [
      "2016-07-13 00:00:00\n",
      "2016-12-07 23:54:00\n"
     ]
    }
   ],
   "source": [
    "print(df[\"Request timestamp\"].min())\n",
    "print(df[\"Request timestamp\"].max())"
   ]
  },
  {
   "cell_type": "markdown",
   "id": "574bef2c",
   "metadata": {},
   "source": [
    "The data only covers c. 5 months. Hence monthly summaries may not be very relevant, but we will include these in our analysis for completeness."
   ]
  },
  {
   "cell_type": "code",
   "execution_count": 9,
   "id": "a80c92db",
   "metadata": {},
   "outputs": [],
   "source": [
    "df[\"Month\"] = df[\"Request timestamp\"].dt.month\n",
    "df[\"Week\"] = df[\"Request timestamp\"].dt.week\n",
    "df[\"Weekday\"] = df[\"Request timestamp\"].dt.weekday\n",
    "df[\"Hour\"] = df[\"Request timestamp\"].dt.hour\n",
    "df[\"Ride length\"] = df[\"Drop timestamp\"] - df[\"Request timestamp\"]"
   ]
  },
  {
   "cell_type": "code",
   "execution_count": 10,
   "id": "6f8fc7ae",
   "metadata": {},
   "outputs": [
    {
     "data": {
      "text/html": [
       "<div>\n",
       "<style scoped>\n",
       "    .dataframe tbody tr th:only-of-type {\n",
       "        vertical-align: middle;\n",
       "    }\n",
       "\n",
       "    .dataframe tbody tr th {\n",
       "        vertical-align: top;\n",
       "    }\n",
       "\n",
       "    .dataframe thead th {\n",
       "        text-align: right;\n",
       "    }\n",
       "</style>\n",
       "<table border=\"1\" class=\"dataframe\">\n",
       "  <thead>\n",
       "    <tr style=\"text-align: right;\">\n",
       "      <th></th>\n",
       "      <th>Request id</th>\n",
       "      <th>Pickup point</th>\n",
       "      <th>Driver id</th>\n",
       "      <th>Status</th>\n",
       "      <th>Request timestamp</th>\n",
       "      <th>Drop timestamp</th>\n",
       "      <th>Month</th>\n",
       "      <th>Week</th>\n",
       "      <th>Weekday</th>\n",
       "      <th>Hour</th>\n",
       "      <th>Ride length</th>\n",
       "    </tr>\n",
       "  </thead>\n",
       "  <tbody>\n",
       "    <tr>\n",
       "      <th>0</th>\n",
       "      <td>1</td>\n",
       "      <td>Airport</td>\n",
       "      <td>285.0</td>\n",
       "      <td>Trip Completed</td>\n",
       "      <td>2016-11-07 00:20:00</td>\n",
       "      <td>2016-11-07 00:51:00</td>\n",
       "      <td>11</td>\n",
       "      <td>45</td>\n",
       "      <td>0</td>\n",
       "      <td>0</td>\n",
       "      <td>0 days 00:31:00</td>\n",
       "    </tr>\n",
       "    <tr>\n",
       "      <th>1</th>\n",
       "      <td>2</td>\n",
       "      <td>Airport</td>\n",
       "      <td>NaN</td>\n",
       "      <td>No Cars Available</td>\n",
       "      <td>2016-11-07 00:23:00</td>\n",
       "      <td>NaT</td>\n",
       "      <td>11</td>\n",
       "      <td>45</td>\n",
       "      <td>0</td>\n",
       "      <td>0</td>\n",
       "      <td>NaT</td>\n",
       "    </tr>\n",
       "    <tr>\n",
       "      <th>2</th>\n",
       "      <td>3</td>\n",
       "      <td>Airport</td>\n",
       "      <td>80.0</td>\n",
       "      <td>Trip Completed</td>\n",
       "      <td>2016-11-07 00:24:00</td>\n",
       "      <td>2016-11-07 01:31:00</td>\n",
       "      <td>11</td>\n",
       "      <td>45</td>\n",
       "      <td>0</td>\n",
       "      <td>0</td>\n",
       "      <td>0 days 01:07:00</td>\n",
       "    </tr>\n",
       "    <tr>\n",
       "      <th>3</th>\n",
       "      <td>4</td>\n",
       "      <td>City</td>\n",
       "      <td>NaN</td>\n",
       "      <td>No Cars Available</td>\n",
       "      <td>2016-11-07 00:37:00</td>\n",
       "      <td>NaT</td>\n",
       "      <td>11</td>\n",
       "      <td>45</td>\n",
       "      <td>0</td>\n",
       "      <td>0</td>\n",
       "      <td>NaT</td>\n",
       "    </tr>\n",
       "    <tr>\n",
       "      <th>4</th>\n",
       "      <td>5</td>\n",
       "      <td>Airport</td>\n",
       "      <td>264.0</td>\n",
       "      <td>Trip Completed</td>\n",
       "      <td>2016-11-07 00:36:00</td>\n",
       "      <td>2016-11-07 01:35:00</td>\n",
       "      <td>11</td>\n",
       "      <td>45</td>\n",
       "      <td>0</td>\n",
       "      <td>0</td>\n",
       "      <td>0 days 00:59:00</td>\n",
       "    </tr>\n",
       "  </tbody>\n",
       "</table>\n",
       "</div>"
      ],
      "text/plain": [
       "   Request id Pickup point  Driver id             Status   Request timestamp  \\\n",
       "0           1      Airport      285.0     Trip Completed 2016-11-07 00:20:00   \n",
       "1           2      Airport        NaN  No Cars Available 2016-11-07 00:23:00   \n",
       "2           3      Airport       80.0     Trip Completed 2016-11-07 00:24:00   \n",
       "3           4         City        NaN  No Cars Available 2016-11-07 00:37:00   \n",
       "4           5      Airport      264.0     Trip Completed 2016-11-07 00:36:00   \n",
       "\n",
       "       Drop timestamp  Month  Week  Weekday  Hour     Ride length  \n",
       "0 2016-11-07 00:51:00     11    45        0     0 0 days 00:31:00  \n",
       "1                 NaT     11    45        0     0             NaT  \n",
       "2 2016-11-07 01:31:00     11    45        0     0 0 days 01:07:00  \n",
       "3                 NaT     11    45        0     0             NaT  \n",
       "4 2016-11-07 01:35:00     11    45        0     0 0 days 00:59:00  "
      ]
     },
     "execution_count": 10,
     "metadata": {},
     "output_type": "execute_result"
    }
   ],
   "source": [
    "df.head()"
   ]
  },
  {
   "cell_type": "code",
   "execution_count": 11,
   "id": "460ec12d",
   "metadata": {},
   "outputs": [
    {
     "data": {
      "text/html": [
       "<div>\n",
       "<style scoped>\n",
       "    .dataframe tbody tr th:only-of-type {\n",
       "        vertical-align: middle;\n",
       "    }\n",
       "\n",
       "    .dataframe tbody tr th {\n",
       "        vertical-align: top;\n",
       "    }\n",
       "\n",
       "    .dataframe thead th {\n",
       "        text-align: right;\n",
       "    }\n",
       "</style>\n",
       "<table border=\"1\" class=\"dataframe\">\n",
       "  <thead>\n",
       "    <tr style=\"text-align: right;\">\n",
       "      <th></th>\n",
       "      <th>Request id</th>\n",
       "      <th>Driver id</th>\n",
       "      <th>Month</th>\n",
       "      <th>Week</th>\n",
       "      <th>Weekday</th>\n",
       "      <th>Hour</th>\n",
       "      <th>Ride length</th>\n",
       "    </tr>\n",
       "  </thead>\n",
       "  <tbody>\n",
       "    <tr>\n",
       "      <th>count</th>\n",
       "      <td>6745.000000</td>\n",
       "      <td>4095.000000</td>\n",
       "      <td>6745.000000</td>\n",
       "      <td>6745.000000</td>\n",
       "      <td>6745.000000</td>\n",
       "      <td>6745.000000</td>\n",
       "      <td>2831</td>\n",
       "    </tr>\n",
       "    <tr>\n",
       "      <th>mean</th>\n",
       "      <td>3384.644922</td>\n",
       "      <td>149.501343</td>\n",
       "      <td>8.779540</td>\n",
       "      <td>35.514603</td>\n",
       "      <td>2.204744</td>\n",
       "      <td>12.956709</td>\n",
       "      <td>-1 days +13:14:01.759095726</td>\n",
       "    </tr>\n",
       "    <tr>\n",
       "      <th>std</th>\n",
       "      <td>1955.099667</td>\n",
       "      <td>86.051994</td>\n",
       "      <td>2.218331</td>\n",
       "      <td>9.357827</td>\n",
       "      <td>1.337382</td>\n",
       "      <td>6.504052</td>\n",
       "      <td>10 days 07:07:53.473784496</td>\n",
       "    </tr>\n",
       "    <tr>\n",
       "      <th>min</th>\n",
       "      <td>1.000000</td>\n",
       "      <td>1.000000</td>\n",
       "      <td>7.000000</td>\n",
       "      <td>28.000000</td>\n",
       "      <td>0.000000</td>\n",
       "      <td>0.000000</td>\n",
       "      <td>-148 days +00:33:00</td>\n",
       "    </tr>\n",
       "    <tr>\n",
       "      <th>25%</th>\n",
       "      <td>1691.000000</td>\n",
       "      <td>75.000000</td>\n",
       "      <td>7.000000</td>\n",
       "      <td>28.000000</td>\n",
       "      <td>2.000000</td>\n",
       "      <td>7.000000</td>\n",
       "      <td>0 days 00:41:00</td>\n",
       "    </tr>\n",
       "    <tr>\n",
       "      <th>50%</th>\n",
       "      <td>3387.000000</td>\n",
       "      <td>149.000000</td>\n",
       "      <td>7.000000</td>\n",
       "      <td>28.000000</td>\n",
       "      <td>2.000000</td>\n",
       "      <td>13.000000</td>\n",
       "      <td>0 days 00:52:00</td>\n",
       "    </tr>\n",
       "    <tr>\n",
       "      <th>75%</th>\n",
       "      <td>5080.000000</td>\n",
       "      <td>224.000000</td>\n",
       "      <td>11.000000</td>\n",
       "      <td>45.000000</td>\n",
       "      <td>3.000000</td>\n",
       "      <td>19.000000</td>\n",
       "      <td>0 days 01:04:00</td>\n",
       "    </tr>\n",
       "    <tr>\n",
       "      <th>max</th>\n",
       "      <td>6766.000000</td>\n",
       "      <td>300.000000</td>\n",
       "      <td>12.000000</td>\n",
       "      <td>49.000000</td>\n",
       "      <td>4.000000</td>\n",
       "      <td>23.000000</td>\n",
       "      <td>29 days 01:15:00</td>\n",
       "    </tr>\n",
       "  </tbody>\n",
       "</table>\n",
       "</div>"
      ],
      "text/plain": [
       "        Request id    Driver id        Month         Week      Weekday  \\\n",
       "count  6745.000000  4095.000000  6745.000000  6745.000000  6745.000000   \n",
       "mean   3384.644922   149.501343     8.779540    35.514603     2.204744   \n",
       "std    1955.099667    86.051994     2.218331     9.357827     1.337382   \n",
       "min       1.000000     1.000000     7.000000    28.000000     0.000000   \n",
       "25%    1691.000000    75.000000     7.000000    28.000000     2.000000   \n",
       "50%    3387.000000   149.000000     7.000000    28.000000     2.000000   \n",
       "75%    5080.000000   224.000000    11.000000    45.000000     3.000000   \n",
       "max    6766.000000   300.000000    12.000000    49.000000     4.000000   \n",
       "\n",
       "              Hour                  Ride length  \n",
       "count  6745.000000                         2831  \n",
       "mean     12.956709  -1 days +13:14:01.759095726  \n",
       "std       6.504052   10 days 07:07:53.473784496  \n",
       "min       0.000000          -148 days +00:33:00  \n",
       "25%       7.000000              0 days 00:41:00  \n",
       "50%      13.000000              0 days 00:52:00  \n",
       "75%      19.000000              0 days 01:04:00  \n",
       "max      23.000000             29 days 01:15:00  "
      ]
     },
     "execution_count": 11,
     "metadata": {},
     "output_type": "execute_result"
    }
   ],
   "source": [
    "df.describe()"
   ]
  },
  {
   "cell_type": "markdown",
   "id": "cbfaee0a",
   "metadata": {},
   "source": [
    "It looks like rides were only booked Monday - Friday. It appears that in some instances either the pick-up or drop-off times were misrecorded (see ride length). We'll investigate whether this is only a problem in a few cases, and if so, we will drop those rows from the dataframe."
   ]
  },
  {
   "cell_type": "markdown",
   "id": "7025e051",
   "metadata": {},
   "source": []
  },
  {
   "cell_type": "code",
   "execution_count": 12,
   "id": "56fe8d65",
   "metadata": {},
   "outputs": [
    {
     "name": "stdout",
     "output_type": "stream",
     "text": [
      "2666   -148 days +00:33:00\n",
      "2654   -148 days +00:35:00\n",
      "2667   -148 days +00:37:00\n",
      "2658   -148 days +00:41:00\n",
      "2656   -148 days +00:42:00\n",
      "2648   -148 days +00:45:00\n",
      "2652   -148 days +00:50:00\n",
      "2665   -148 days +00:52:00\n",
      "2651   -148 days +01:04:00\n",
      "2657   -148 days +01:05:00\n",
      "2655   -148 days +01:07:00\n",
      "2669   -148 days +01:16:00\n",
      "2647   -148 days +01:17:00\n",
      "1662       0 days 00:21:00\n",
      "4589       0 days 00:21:00\n",
      "1964       0 days 00:21:00\n",
      "4743       0 days 00:21:00\n",
      "3188       0 days 00:21:00\n",
      "994        0 days 00:22:00\n",
      "2037       0 days 00:23:00\n",
      "Name: Ride length, dtype: timedelta64[ns]\n",
      "1359   29 days 01:15:00\n",
      "1319   29 days 01:14:00\n",
      "1353   29 days 01:07:00\n",
      "1338   29 days 01:07:00\n",
      "1323   29 days 01:06:00\n",
      "1350   29 days 01:05:00\n",
      "1343   29 days 01:04:00\n",
      "1320   29 days 01:04:00\n",
      "1329   29 days 01:03:00\n",
      "1325   29 days 01:01:00\n",
      "1358   29 days 00:59:00\n",
      "1332   29 days 00:58:00\n",
      "1342   29 days 00:55:00\n",
      "1349   29 days 00:46:00\n",
      "1345   29 days 00:44:00\n",
      "1352   29 days 00:43:00\n",
      "1348   29 days 00:41:00\n",
      "1340   29 days 00:40:00\n",
      "1344   29 days 00:32:00\n",
      "4032    0 days 01:23:00\n",
      "Name: Ride length, dtype: timedelta64[ns]\n"
     ]
    }
   ],
   "source": [
    "print(df[\"Ride length\"].sort_values().head(20))\n",
    "print(df[\"Ride length\"].sort_values(ascending=False).head(20))"
   ]
  },
  {
   "cell_type": "code",
   "execution_count": 13,
   "id": "ab7364ab",
   "metadata": {},
   "outputs": [],
   "source": [
    "df.drop(df.loc[df[\"Ride length\"]>pd.Timedelta(2,\"h\")].index, inplace = True)\n",
    "df.drop(df.loc[df[\"Ride length\"]<pd.Timedelta(seconds=-1)].index, inplace = True)"
   ]
  },
  {
   "cell_type": "code",
   "execution_count": 14,
   "id": "58afde6b",
   "metadata": {},
   "outputs": [
    {
     "name": "stdout",
     "output_type": "stream",
     "text": [
      "4743   0 days 00:21:00\n",
      "1964   0 days 00:21:00\n",
      "4589   0 days 00:21:00\n",
      "3188   0 days 00:21:00\n",
      "1662   0 days 00:21:00\n",
      "994    0 days 00:22:00\n",
      "3261   0 days 00:23:00\n",
      "820    0 days 00:23:00\n",
      "2037   0 days 00:23:00\n",
      "5548   0 days 00:24:00\n",
      "2286   0 days 00:24:00\n",
      "3147   0 days 00:24:00\n",
      "4359   0 days 00:24:00\n",
      "3726   0 days 00:24:00\n",
      "5903   0 days 00:24:00\n",
      "3262   0 days 00:25:00\n",
      "3964   0 days 00:25:00\n",
      "5780   0 days 00:25:00\n",
      "1946   0 days 00:25:00\n",
      "1880   0 days 00:25:00\n",
      "Name: Ride length, dtype: timedelta64[ns]\n",
      "4032   0 days 01:23:00\n",
      "2408   0 days 01:23:00\n",
      "5954   0 days 01:22:00\n",
      "6020   0 days 01:21:00\n",
      "2544   0 days 01:21:00\n",
      "5064   0 days 01:21:00\n",
      "3641   0 days 01:21:00\n",
      "6601   0 days 01:21:00\n",
      "2161   0 days 01:21:00\n",
      "509    0 days 01:21:00\n",
      "3276   0 days 01:21:00\n",
      "4846   0 days 01:20:00\n",
      "4102   0 days 01:20:00\n",
      "1273   0 days 01:20:00\n",
      "3937   0 days 01:20:00\n",
      "4318   0 days 01:20:00\n",
      "374    0 days 01:19:00\n",
      "4730   0 days 01:19:00\n",
      "4718   0 days 01:19:00\n",
      "3598   0 days 01:19:00\n",
      "Name: Ride length, dtype: timedelta64[ns]\n"
     ]
    }
   ],
   "source": [
    "print(df[\"Ride length\"].sort_values().head(20))\n",
    "print(df[\"Ride length\"].sort_values(ascending=False).head(20))"
   ]
  },
  {
   "cell_type": "code",
   "execution_count": 15,
   "id": "510ce019",
   "metadata": {},
   "outputs": [
    {
     "data": {
      "text/html": [
       "<div>\n",
       "<style scoped>\n",
       "    .dataframe tbody tr th:only-of-type {\n",
       "        vertical-align: middle;\n",
       "    }\n",
       "\n",
       "    .dataframe tbody tr th {\n",
       "        vertical-align: top;\n",
       "    }\n",
       "\n",
       "    .dataframe thead th {\n",
       "        text-align: right;\n",
       "    }\n",
       "</style>\n",
       "<table border=\"1\" class=\"dataframe\">\n",
       "  <thead>\n",
       "    <tr style=\"text-align: right;\">\n",
       "      <th></th>\n",
       "      <th>Request id</th>\n",
       "      <th>Driver id</th>\n",
       "      <th>Month</th>\n",
       "      <th>Week</th>\n",
       "      <th>Weekday</th>\n",
       "      <th>Hour</th>\n",
       "      <th>Ride length</th>\n",
       "    </tr>\n",
       "  </thead>\n",
       "  <tbody>\n",
       "    <tr>\n",
       "      <th>count</th>\n",
       "      <td>6713.000000</td>\n",
       "      <td>4063.000000</td>\n",
       "      <td>6713.000000</td>\n",
       "      <td>6713.000000</td>\n",
       "      <td>6713.000000</td>\n",
       "      <td>6713.000000</td>\n",
       "      <td>2799</td>\n",
       "    </tr>\n",
       "    <tr>\n",
       "      <th>mean</th>\n",
       "      <td>3391.816922</td>\n",
       "      <td>149.531135</td>\n",
       "      <td>8.767019</td>\n",
       "      <td>35.461642</td>\n",
       "      <td>2.211381</td>\n",
       "      <td>12.909132</td>\n",
       "      <td>0 days 00:52:22.743837084</td>\n",
       "    </tr>\n",
       "    <tr>\n",
       "      <th>std</th>\n",
       "      <td>1956.469439</td>\n",
       "      <td>86.085266</td>\n",
       "      <td>2.215909</td>\n",
       "      <td>9.347550</td>\n",
       "      <td>1.335377</td>\n",
       "      <td>6.482816</td>\n",
       "      <td>0 days 00:13:50.875707615</td>\n",
       "    </tr>\n",
       "    <tr>\n",
       "      <th>min</th>\n",
       "      <td>1.000000</td>\n",
       "      <td>1.000000</td>\n",
       "      <td>7.000000</td>\n",
       "      <td>28.000000</td>\n",
       "      <td>0.000000</td>\n",
       "      <td>0.000000</td>\n",
       "      <td>0 days 00:21:00</td>\n",
       "    </tr>\n",
       "    <tr>\n",
       "      <th>25%</th>\n",
       "      <td>1702.000000</td>\n",
       "      <td>75.000000</td>\n",
       "      <td>7.000000</td>\n",
       "      <td>28.000000</td>\n",
       "      <td>2.000000</td>\n",
       "      <td>7.000000</td>\n",
       "      <td>0 days 00:41:00</td>\n",
       "    </tr>\n",
       "    <tr>\n",
       "      <th>50%</th>\n",
       "      <td>3403.000000</td>\n",
       "      <td>149.000000</td>\n",
       "      <td>7.000000</td>\n",
       "      <td>28.000000</td>\n",
       "      <td>2.000000</td>\n",
       "      <td>13.000000</td>\n",
       "      <td>0 days 00:52:00</td>\n",
       "    </tr>\n",
       "    <tr>\n",
       "      <th>75%</th>\n",
       "      <td>5088.000000</td>\n",
       "      <td>224.000000</td>\n",
       "      <td>11.000000</td>\n",
       "      <td>45.000000</td>\n",
       "      <td>3.000000</td>\n",
       "      <td>19.000000</td>\n",
       "      <td>0 days 01:04:00</td>\n",
       "    </tr>\n",
       "    <tr>\n",
       "      <th>max</th>\n",
       "      <td>6766.000000</td>\n",
       "      <td>300.000000</td>\n",
       "      <td>12.000000</td>\n",
       "      <td>49.000000</td>\n",
       "      <td>4.000000</td>\n",
       "      <td>23.000000</td>\n",
       "      <td>0 days 01:23:00</td>\n",
       "    </tr>\n",
       "  </tbody>\n",
       "</table>\n",
       "</div>"
      ],
      "text/plain": [
       "        Request id    Driver id        Month         Week      Weekday  \\\n",
       "count  6713.000000  4063.000000  6713.000000  6713.000000  6713.000000   \n",
       "mean   3391.816922   149.531135     8.767019    35.461642     2.211381   \n",
       "std    1956.469439    86.085266     2.215909     9.347550     1.335377   \n",
       "min       1.000000     1.000000     7.000000    28.000000     0.000000   \n",
       "25%    1702.000000    75.000000     7.000000    28.000000     2.000000   \n",
       "50%    3403.000000   149.000000     7.000000    28.000000     2.000000   \n",
       "75%    5088.000000   224.000000    11.000000    45.000000     3.000000   \n",
       "max    6766.000000   300.000000    12.000000    49.000000     4.000000   \n",
       "\n",
       "              Hour                Ride length  \n",
       "count  6713.000000                       2799  \n",
       "mean     12.909132  0 days 00:52:22.743837084  \n",
       "std       6.482816  0 days 00:13:50.875707615  \n",
       "min       0.000000            0 days 00:21:00  \n",
       "25%       7.000000            0 days 00:41:00  \n",
       "50%      13.000000            0 days 00:52:00  \n",
       "75%      19.000000            0 days 01:04:00  \n",
       "max      23.000000            0 days 01:23:00  "
      ]
     },
     "execution_count": 15,
     "metadata": {},
     "output_type": "execute_result"
    }
   ],
   "source": [
    "df.describe()"
   ]
  },
  {
   "cell_type": "markdown",
   "id": "395adec9",
   "metadata": {},
   "source": [
    "We have successfully dropped the rows with erroneous pick-up/drop-off times from the dataframe and the average ride length now looks normal."
   ]
  },
  {
   "cell_type": "code",
   "execution_count": 16,
   "id": "fd4d047a",
   "metadata": {},
   "outputs": [
    {
     "name": "stdout",
     "output_type": "stream",
     "text": [
      "Month\n",
      "7    0 days 00:52:22.158273381\n",
      "11   0 days 00:52:13.092783505\n",
      "12   0 days 00:52:34.754098360\n",
      "Name: Ride length, dtype: timedelta64[ns]\n",
      "Week\n",
      "28   0 days 00:52:22.158273381\n",
      "45   0 days 00:52:13.092783505\n",
      "49   0 days 00:52:34.754098360\n",
      "Name: Ride length, dtype: timedelta64[ns]\n"
     ]
    }
   ],
   "source": [
    "print(df.groupby(\"Month\")[\"Ride length\"].mean())\n",
    "print(df.groupby(\"Week\")[\"Ride length\"].mean())"
   ]
  },
  {
   "cell_type": "markdown",
   "id": "0779c094",
   "metadata": {},
   "source": [
    "Was data only collected during 3 weeks/months?"
   ]
  },
  {
   "cell_type": "code",
   "execution_count": 17,
   "id": "d3335a8c",
   "metadata": {},
   "outputs": [
    {
     "data": {
      "text/plain": [
       "<Axes: >"
      ]
     },
     "execution_count": 17,
     "metadata": {},
     "output_type": "execute_result"
    },
    {
     "data": {
      "image/png": "[encoded data removed]",
      "text/plain": [
       "<Figure size 640x480 with 1 Axes>"
      ]
     },
     "metadata": {},
     "output_type": "display_data"
    }
   ],
   "source": [
    "df[\"Request timestamp\"].hist()"
   ]
  },
  {
   "cell_type": "markdown",
   "id": "8b6f6ff3",
   "metadata": {},
   "source": [
    "Indeed, we would ideally like to have collected data over a longer time period."
   ]
  },
  {
   "cell_type": "code",
   "execution_count": 18,
   "id": "185734c4",
   "metadata": {},
   "outputs": [
    {
     "data": {
      "image/png": "[encoded data removed]",
      "text/plain": [
       "<Figure size 640x480 with 1 Axes>"
      ]
     },
     "metadata": {},
     "output_type": "display_data"
    }
   ],
   "source": [
    "df[\"Weekday\"].hist();"
   ]
  },
  {
   "cell_type": "code",
   "execution_count": 19,
   "id": "185eb1d9",
   "metadata": {},
   "outputs": [
    {
     "data": {
      "image/png": "[encoded data removed]",
      "text/plain": [
       "<Figure size 640x480 with 1 Axes>"
      ]
     },
     "metadata": {},
     "output_type": "display_data"
    }
   ],
   "source": [
    "df[\"Hour\"].hist();"
   ]
  },
  {
   "cell_type": "markdown",
   "id": "e7a8c5da",
   "metadata": {},
   "source": [
    "Most rides are requested during the mornings (between 5am and 9am) and evenings (between 4 and 11pm). We will split this between airport and city:"
   ]
  },
  {
   "cell_type": "code",
   "execution_count": 20,
   "id": "a83f119c",
   "metadata": {},
   "outputs": [
    {
     "data": {
      "image/png": "[encoded data removed]",
      "text/plain": [
       "<Figure size 640x480 with 1 Axes>"
      ]
     },
     "metadata": {},
     "output_type": "display_data"
    }
   ],
   "source": [
    "df1 = pd.get_dummies(df,columns=[\"Pickup point\"])\n",
    "df1.groupby([\"Hour\"]).agg({\"Pickup point_Airport\":\"count\",\"Pickup point_City\":\"count\"}).plot(kind=\"bar\",stacked=True);"
   ]
  },
  {
   "cell_type": "code",
   "execution_count": 21,
   "id": "ebbaf356",
   "metadata": {},
   "outputs": [
    {
     "data": {
      "text/plain": [
       "Weekday\n",
       "0   0 days 00:52:13.092783505\n",
       "2   0 days 00:52:20.195381882\n",
       "3   0 days 00:52:22.188679245\n",
       "4   0 days 00:52:38.395721925\n",
       "Name: Ride length, dtype: timedelta64[ns]"
      ]
     },
     "execution_count": 21,
     "metadata": {},
     "output_type": "execute_result"
    }
   ],
   "source": [
    "df.groupby(\"Weekday\")[\"Ride length\"].mean()"
   ]
  },
  {
   "cell_type": "code",
   "execution_count": 22,
   "id": "37add2fc",
   "metadata": {},
   "outputs": [
    {
     "data": {
      "text/plain": [
       "Hour\n",
       "0       0 days 00:53:46.500000\n",
       "1       0 days 00:57:33.600000\n",
       "2    0 days 00:53:09.729729729\n",
       "3    0 days 00:51:15.882352941\n",
       "4    0 days 00:54:13.076923076\n",
       "5    0 days 00:51:32.756756756\n",
       "6    0 days 00:54:01.437125748\n",
       "7    0 days 00:52:37.931034482\n",
       "8    0 days 00:50:52.645161290\n",
       "9    0 days 00:53:24.277456647\n",
       "10   0 days 00:52:18.620689655\n",
       "11   0 days 00:53:23.478260869\n",
       "12   0 days 00:52:28.760330578\n",
       "13   0 days 00:50:33.707865168\n",
       "14   0 days 00:51:39.545454545\n",
       "15   0 days 00:53:27.058823529\n",
       "16   0 days 00:52:23.736263736\n",
       "17   0 days 00:51:53.245033112\n",
       "18   0 days 00:50:43.902439024\n",
       "19             0 days 00:51:30\n",
       "20   0 days 00:52:51.055900621\n",
       "21   0 days 00:52:42.253521126\n",
       "22   0 days 00:53:08.289473684\n",
       "23   0 days 00:49:52.602739726\n",
       "Name: Ride length, dtype: timedelta64[ns]"
      ]
     },
     "execution_count": 22,
     "metadata": {},
     "output_type": "execute_result"
    }
   ],
   "source": [
    "df.groupby(\"Hour\")[\"Ride length\"].mean()"
   ]
  },
  {
   "cell_type": "markdown",
   "id": "10f7f20e",
   "metadata": {},
   "source": [
    "It does not look like average ride lengths vary materially depending on weekday or time of day, which is surprising."
   ]
  },
  {
   "cell_type": "markdown",
   "id": "4d07ed87",
   "metadata": {},
   "source": [
    "For further analysis we will convert the \"Status\" column into 3 columns:"
   ]
  },
  {
   "cell_type": "code",
   "execution_count": 23,
   "id": "bf1a35da",
   "metadata": {},
   "outputs": [],
   "source": [
    "df = pd.get_dummies(df,columns=[\"Status\"])"
   ]
  },
  {
   "cell_type": "markdown",
   "id": "36edb6fb",
   "metadata": {},
   "source": [
    "### Analysis of cancellations and lack of car availability"
   ]
  },
  {
   "cell_type": "code",
   "execution_count": 24,
   "id": "b70c60e2",
   "metadata": {},
   "outputs": [
    {
     "data": {
      "text/html": [
       "<div>\n",
       "<style scoped>\n",
       "    .dataframe tbody tr th:only-of-type {\n",
       "        vertical-align: middle;\n",
       "    }\n",
       "\n",
       "    .dataframe tbody tr th {\n",
       "        vertical-align: top;\n",
       "    }\n",
       "\n",
       "    .dataframe thead th {\n",
       "        text-align: right;\n",
       "    }\n",
       "</style>\n",
       "<table border=\"1\" class=\"dataframe\">\n",
       "  <thead>\n",
       "    <tr style=\"text-align: right;\">\n",
       "      <th></th>\n",
       "      <th>Status_Cancelled</th>\n",
       "      <th>Status_No Cars Available</th>\n",
       "      <th>Status_Trip Completed</th>\n",
       "    </tr>\n",
       "    <tr>\n",
       "      <th>Weekday</th>\n",
       "      <th></th>\n",
       "      <th></th>\n",
       "      <th></th>\n",
       "    </tr>\n",
       "  </thead>\n",
       "  <tbody>\n",
       "    <tr>\n",
       "      <th>0</th>\n",
       "      <td>0.194362</td>\n",
       "      <td>0.373887</td>\n",
       "      <td>0.431751</td>\n",
       "    </tr>\n",
       "    <tr>\n",
       "      <th>2</th>\n",
       "      <td>0.193843</td>\n",
       "      <td>0.378183</td>\n",
       "      <td>0.427974</td>\n",
       "    </tr>\n",
       "    <tr>\n",
       "      <th>3</th>\n",
       "      <td>0.186253</td>\n",
       "      <td>0.422025</td>\n",
       "      <td>0.391722</td>\n",
       "    </tr>\n",
       "    <tr>\n",
       "      <th>4</th>\n",
       "      <td>0.173787</td>\n",
       "      <td>0.419986</td>\n",
       "      <td>0.406227</td>\n",
       "    </tr>\n",
       "  </tbody>\n",
       "</table>\n",
       "</div>"
      ],
      "text/plain": [
       "         Status_Cancelled  Status_No Cars Available  Status_Trip Completed\n",
       "Weekday                                                                   \n",
       "0                0.194362                  0.373887               0.431751\n",
       "2                0.193843                  0.378183               0.427974\n",
       "3                0.186253                  0.422025               0.391722\n",
       "4                0.173787                  0.419986               0.406227"
      ]
     },
     "execution_count": 24,
     "metadata": {},
     "output_type": "execute_result"
    }
   ],
   "source": [
    "df.groupby(\"Weekday\").agg({\"Status_Cancelled\":\"mean\",\"Status_No Cars Available\":\"mean\",\"Status_Trip Completed\":\"mean\"})"
   ]
  },
  {
   "cell_type": "markdown",
   "id": "c5f598fd",
   "metadata": {},
   "source": [
    "No huge differences in average % of completed trips by weekday."
   ]
  },
  {
   "cell_type": "code",
   "execution_count": 25,
   "id": "ced9bba9",
   "metadata": {},
   "outputs": [
    {
     "data": {
      "image/png": "[encoded data removed]",
      "text/plain": [
       "<Figure size 640x480 with 1 Axes>"
      ]
     },
     "metadata": {},
     "output_type": "display_data"
    }
   ],
   "source": [
    "df.groupby(\"Hour\").agg({\"Status_Cancelled\":\"mean\",\"Status_No Cars Available\":\"mean\",\"Status_Trip Completed\":\"mean\"}).plot(kind=\"bar\",stacked=True);"
   ]
  },
  {
   "cell_type": "markdown",
   "id": "8975fa6c",
   "metadata": {},
   "source": [
    "This is more interesting: it looks like rides were most often not completed during the evening - between 5pm and 9pm due to lack of available cars. Rides were most often cancelled by the driver in the mornings, between 4am and 10am."
   ]
  },
  {
   "cell_type": "markdown",
   "id": "ef4b3964",
   "metadata": {},
   "source": [
    "#### What differences can we see between trips starting at the airport and in the City?"
   ]
  },
  {
   "cell_type": "code",
   "execution_count": 26,
   "id": "3eae2845",
   "metadata": {},
   "outputs": [
    {
     "data": {
      "image/png": "[encoded data removed]",
      "text/plain": [
       "<Figure size 640x480 with 1 Axes>"
      ]
     },
     "metadata": {},
     "output_type": "display_data"
    }
   ],
   "source": [
    "df.groupby(\"Pickup point\").agg({\"Status_Cancelled\":\"mean\",\"Status_No Cars Available\":\"mean\",\"Status_Trip Completed\":\"mean\"}).plot(kind=\"bar\",stacked=True);"
   ]
  },
  {
   "cell_type": "markdown",
   "id": "96993a79",
   "metadata": {},
   "source": [
    "Drivers cancelled rides much more often in the City, whilst the bigger problem at the airport was that cars weren't available. We are breaking this down by hour below:"
   ]
  },
  {
   "cell_type": "code",
   "execution_count": 27,
   "id": "84e9585e",
   "metadata": {},
   "outputs": [
    {
     "data": {
      "image/png": "[encoded data removed]",
      "text/plain": [
       "<Figure size 640x480 with 1 Axes>"
      ]
     },
     "metadata": {},
     "output_type": "display_data"
    }
   ],
   "source": [
    "df[df[\"Pickup point\"]==\"Airport\"].groupby([\"Hour\"]).agg({\"Status_Cancelled\":\"mean\",\"Status_No Cars Available\":\"mean\",\"Status_Trip Completed\":\"mean\"}).plot(kind=\"bar\",stacked=True,title=\"Airport\");"
   ]
  },
  {
   "cell_type": "code",
   "execution_count": 28,
   "id": "96ca3e0d",
   "metadata": {},
   "outputs": [
    {
     "data": {
      "image/png": "[encoded data removed]",
      "text/plain": [
       "<Figure size 640x480 with 1 Axes>"
      ]
     },
     "metadata": {},
     "output_type": "display_data"
    }
   ],
   "source": [
    "df[df[\"Pickup point\"]==\"City\"].groupby([\"Hour\"]).agg({\"Status_Cancelled\":\"mean\",\"Status_No Cars Available\":\"mean\",\"Status_Trip Completed\":\"mean\"}).plot(kind=\"bar\",stacked=True,title=\"City\");"
   ]
  },
  {
   "cell_type": "markdown",
   "id": "c5346b1a",
   "metadata": {},
   "source": [
    "These two charts illustrate that at the airport, the biggest issue is lack of availability of cars in the evening between 5pm and 11pm (whilst lack of availability also looks like a problem between midnight and 4am, we know from our previous histogram that not many rides are requested during that time).\n",
    "For trips from the City, the biggest issue appears to be cancellations during the morning (between 5am and 9.30am; again, we know from our histogram that not many rides are requested earlier in the morning). It seems likely that this is because plenty of \"intra-city\" trip requests are made during this time and drivers do not want to drive out."
   ]
  },
  {
   "cell_type": "markdown",
   "id": "ac3d80f7",
   "metadata": {},
   "source": [
    "Consequently, it might be ideal to try and encourage more \"part-time drivers\" to take up driving in the City in the mornings, and to encourage more drivers to the vicinity of the airport in the evenings - possibly through additional surcharges."
   ]
  }
 ],
 "metadata": {
  "kernelspec": {
   "display_name": "Python 3 (ipykernel)",
   "language": "python",
   "name": "python3"
  },
  "language_info": {
   "codemirror_mode": {
    "name": "ipython",
    "version": 3
   },
   "file_extension": ".py",
   "mimetype": "text/x-python",
   "name": "python",
   "nbconvert_exporter": "python",
   "pygments_lexer": "ipython3",
   "version": "3.11.3"
  }
 },
 "nbformat": 4,
 "nbformat_minor": 5
}
